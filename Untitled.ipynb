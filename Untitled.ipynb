{
 "cells": [
  {
   "cell_type": "code",
   "execution_count": 9,
   "metadata": {},
   "outputs": [],
   "source": [
    "# python3\n",
    "import sys\n",
    "sys.path.append(\"./sequemem\")\n",
    "from neuron import *\n",
    "from sequemem import *\n",
    "import random\n",
    "import numpy as np\n",
    "import pandas as pd"
   ]
  },
  {
   "cell_type": "code",
   "execution_count": 10,
   "metadata": {},
   "outputs": [
    {
     "name": "stdout",
     "output_type": "stream",
     "text": [
      "('starting: ', 'data/sent_cats_of_ulthar.txt')\n",
      "0\n",
      "('starting: ', 'data/sent_alice_in_wonderland.txt')\n",
      "0\n",
      "1000\n",
      "('starting: ', 'data/sent_andersens_fairy_tales_pg1597.txt')\n",
      "0\n",
      "1000\n",
      "2000\n",
      "3000\n",
      "('starting: ', 'data/sent_grimms_fairy_tales_2591-0.txt')\n",
      "0\n",
      "1000\n",
      "2000\n",
      "3000\n",
      "4000\n",
      "5000\n",
      "6000\n",
      "7000\n",
      "8000\n",
      "9000\n",
      "('starting: ', 'data/sent_jungle_book_236-0.txt')\n",
      "0\n",
      "1000\n",
      "2000\n",
      "3000\n",
      "('starting: ', 'data/sent_tao_te_king.txt')\n",
      "0\n",
      "1000\n",
      "('starting: ', 'data/sent_the_prince.txt')\n",
      "0\n",
      "1000\n",
      "('starting: ', 'data/sent_thousand_and_one.txt')\n",
      "0\n",
      "1000\n",
      "2000\n",
      "3000\n",
      "4000\n",
      "5000\n",
      "6000\n",
      "7000\n",
      "8000\n",
      "('starting: ', 'data/sent_fairy_tales.txt')\n",
      "0\n",
      "1000\n",
      "2000\n",
      "3000\n",
      "4000\n"
     ]
    }
   ],
   "source": [
    "layer = Sequemem()\n",
    "\n",
    "files = [\n",
    "    'data/sent_cats_of_ulthar.txt',\n",
    "    'data/sent_alice_in_wonderland.txt',\n",
    "    'data/sent_andersens_fairy_tales_pg1597.txt',\n",
    "    'data/sent_grimms_fairy_tales_2591-0.txt',\n",
    "    'data/sent_jungle_book_236-0.txt',\n",
    "    'data/sent_tao_te_king.txt',\n",
    "    'data/sent_the_prince.txt',\n",
    "    'data/sent_thousand_and_one.txt',\n",
    "    'data/sent_fairy_tales.txt',\n",
    "    ]\n",
    "\n",
    "for f in files:\n",
    "    print(\"starting: \", f)\n",
    "    layer.train_from_file_group_line(f)"
   ]
  },
  {
   "cell_type": "code",
   "execution_count": 11,
   "metadata": {},
   "outputs": [],
   "source": [
    "import matplotlib.pyplot as plt\n",
    "%matplotlib inline"
   ]
  },
  {
   "cell_type": "code",
   "execution_count": 12,
   "metadata": {},
   "outputs": [
    {
     "name": "stdout",
     "output_type": "stream",
     "text": [
      "('Count for ', 'jack', ' is ', 158)\n"
     ]
    },
    {
     "data": {
      "text/plain": [
       "['jack',\n",
       " 'the',\n",
       " 'and',\n",
       " 'to',\n",
       " 'of',\n",
       " 'his',\n",
       " 'he',\n",
       " 'a',\n",
       " 'was',\n",
       " 'giant',\n",
       " 'in',\n",
       " 'him',\n",
       " 'that',\n",
       " 'with',\n",
       " 'at',\n",
       " 'for',\n",
       " 'had',\n",
       " 'said',\n",
       " 'but',\n",
       " 'on',\n",
       " 'this',\n",
       " 'not',\n",
       " 'who',\n",
       " 'into',\n",
       " 'when',\n",
       " 'it',\n",
       " 'be',\n",
       " 'as',\n",
       " 'which',\n",
       " 'i']"
      ]
     },
     "execution_count": 12,
     "metadata": {},
     "output_type": "execute_result"
    },
    {
     "data": {
      "image/png": "[encoded data removed]",
      "text/plain": [
       "<matplotlib.figure.Figure at 0x11ab0ce90>"
      ]
     },
     "metadata": {},
     "output_type": "display_data"
    }
   ],
   "source": [
    "head_keys = layer.columns.keys()\n",
    "neurons = list({neuron for column in layer.columns.values() for neuron in column})\n",
    "neurons[0].keys\n",
    "total_neurons = len(layer.get_number_neurons_per_key())\n",
    "d_w_uber_freq = {}\n",
    "for word, count in layer.get_number_neurons_per_key().most_common():\n",
    "    d_w_uber_freq[word] = float(count/total_neurons)\n",
    "    \n",
    "\n",
    "the_WORD = 'jack'\n",
    "word_test, total_spec_w = layer.get_counts_for_specific_key(the_WORD).most_common(1)[0] # should be itself\n",
    "print(\"Count for \", word_test,\" is \", total_spec_w)\n",
    "arr_the_word = []\n",
    "arr_global_f = []\n",
    "arr_spec_f   = []\n",
    "for word, count in layer.get_counts_for_specific_key(the_WORD).most_common():\n",
    "    this_freq = float(count/(total_spec_w + 0.01))\n",
    "    if float(d_w_uber_freq[word]/this_freq) <= 0.05:\n",
    "        arr_the_word.append(word)\n",
    "        arr_global_f.append(d_w_uber_freq[word])\n",
    "        arr_spec_f.append(this_freq)\n",
    "\n",
    "cutoff = 30\n",
    "    \n",
    "fig, ax = plt.subplots()\n",
    "ax.scatter(arr_spec_f[:cutoff], arr_global_f[:cutoff])\n",
    "\n",
    "for i, txt in enumerate(arr_the_word[:cutoff]):\n",
    "    ax.annotate(txt, (arr_spec_f[i],arr_global_f[i]))\n",
    "arr_the_word[:cutoff]"
   ]
  },
  {
   "cell_type": "code",
   "execution_count": 13,
   "metadata": {},
   "outputs": [],
   "source": [
    "# head_keys = layer.columns.keys()\n",
    "# neurons = list({neuron for column in layer.columns.values() for neuron in column})\n",
    "# one_hot_raw = np.eye(len(head_keys), dtype=int)\n",
    "# len(one_hot_raw)\n",
    "# d_head_keys = {}\n",
    "# for idx, word in enumerate(head_keys):\n",
    "#     d_head_keys[word] = one_hot_raw[idx]\n",
    "# len(d_head_keys)\n",
    "# ar_sent_vecs = np.zeros((len(neurons),len(head_keys)))\n",
    "# ar_sent_vecs.shape"
   ]
  },
  {
   "cell_type": "code",
   "execution_count": 14,
   "metadata": {},
   "outputs": [],
   "source": [
    "# headkeys = layer.columns.keys()\n",
    "# neurons = list({neuron for column in layer.columns.values() for neuron in column})\n",
    "# print(len(neurons)) # 481334 as list\n",
    "#                     #  32796 as set\n",
    "\n",
    "# for idx, neuron in enumerate(neurons):\n",
    "#     if idx % 1000 == 0:\n",
    "#         print(idx)\n",
    "#     for _key in neuron.keys:\n",
    "#         ar_sent_vecs[idx] = np.add(ar_sent_vecs[idx], d_head_keys[_key])\n",
    "                \n",
    "\n",
    "# ar_sent_vecs.shape\n",
    "        "
   ]
  },
  {
   "cell_type": "code",
   "execution_count": 15,
   "metadata": {},
   "outputs": [],
   "source": [
    "# np.sum(ar_sent_vecs[100])"
   ]
  },
  {
   "cell_type": "code",
   "execution_count": 16,
   "metadata": {},
   "outputs": [],
   "source": [
    "# from sklearn.cluster import KMeans\n",
    "# class KMeans():\n",
    "#     def compute_clusters(self, X, centers):\n",
    "#         return np.argmin([np.linalg.norm(X-c, axis=1) for c in centers], axis=0)\n",
    "#     def compute_centers(self, X, clusters):\n",
    "#         return np.array([X[clusters == c,].mean(0) for c in set(clusters)])\n",
    "#     def fit(self, X, k, n_iter=100):\n",
    "#         print('A')\n",
    "#         clusters = self.compute_clusters(X, np.array(random.sample(list(X), k)))\n",
    "#         for idx in range(n_iter):\n",
    "#             print(idx)\n",
    "#             #if idx % 10 == 0: print(idx)\n",
    "#             centers = self.compute_centers(X, clusters)\n",
    "#             clusters = self.compute_clusters(X, centers)\n",
    "#         return clusters"
   ]
  },
  {
   "cell_type": "code",
   "execution_count": 17,
   "metadata": {},
   "outputs": [],
   "source": [
    "\n",
    "# import numpy as np\n",
    "# X = np.array([[1, 2], [1, 4], [1, 0],\n",
    "#               [4, 2], [4, 4], [4, 0]])\n",
    "# kmeans = KMeans(n_clusters=2, random_state=0).fit(X)\n",
    "# kmeans.labels_\n",
    "# #> array([0, 0, 0, 1, 1, 1], dtype=int32)\n",
    "# kmeans.predict([[0, 0], [4, 4]])\n",
    "# #> array([0, 1], dtype=int32)\n",
    "# kmeans.cluster_centers_\n",
    "# #> array([[ 1.,  2.],\n",
    "# #>     [ 4.,  2.]])"
   ]
  },
  {
   "cell_type": "code",
   "execution_count": 18,
   "metadata": {},
   "outputs": [],
   "source": [
    "# %time\n",
    "# clusters = KMeans(n_clusters=64, random_state=0).fit(ar_sent_vecs[:2000])\n",
    "# clusters.labels_"
   ]
  },
  {
   "cell_type": "code",
   "execution_count": 19,
   "metadata": {},
   "outputs": [],
   "source": [
    "# clusters.labels_[200:300]"
   ]
  }
 ],
 "metadata": {
  "kernelspec": {
   "display_name": "Python 2",
   "language": "python",
   "name": "python2"
  },
  "language_info": {
   "codemirror_mode": {
    "name": "ipython",
    "version": 2
   },
   "file_extension": ".py",
   "mimetype": "text/x-python",
   "name": "python",
   "nbconvert_exporter": "python",
   "pygments_lexer": "ipython2",
   "version": "2.7.10"
  }
 },
 "nbformat": 4,
 "nbformat_minor": 2
}
