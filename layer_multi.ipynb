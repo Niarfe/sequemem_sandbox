{
 "cells": [
  {
   "cell_type": "code",
   "execution_count": 1,
   "metadata": {},
   "outputs": [
    {
     "name": "stdout",
     "output_type": "stream",
     "text": [
      "README.md                             pandas_keyword_table.ipynb\r\n",
      "\u001b[36mdata\u001b[m\u001b[m                                  predictor.py\r\n",
      "\u001b[36menv\u001b[m\u001b[m                                   requirements.txt\r\n",
      "layer_multi.ipynb                     \u001b[36msequemem\u001b[m\u001b[m\r\n",
      "lookIntoCNNsContextReplaceSheHe.ipynb setup.py\r\n",
      "makefile                              \u001b[36mtests\u001b[m\u001b[m\r\n"
     ]
    }
   ],
   "source": [
    "! ls\n",
    "from sequemem import *\n",
    "from sequemem.brain import *\n",
    "from sequemem.layer_multi import *\n",
    "from sequemem.logic import *"
   ]
  },
  {
   "cell_type": "code",
   "execution_count": 22,
   "metadata": {},
   "outputs": [
    {
     "name": "stdout",
     "output_type": "stream",
     "text": [
      "The 1\n",
      "quick 1\n",
      "brown 1\n",
      "fox 2\n",
      "jumped 2\n",
      "over 2\n",
      "the 2\n",
      "lazy 2\n",
      "dog 2\n",
      "red 1\n",
      "The quick brown fox jumped over the lazy dog 1\n",
      "The quick red fox jumped over the lazy dog 1\n",
      "he ate the clams 1\n",
      "then he felt sick 1\n"
     ]
    },
    {
     "data": {
      "text/plain": [
       "['then he felt sick']"
      ]
     },
     "execution_count": 22,
     "metadata": {},
     "output_type": "execute_result"
    }
   ],
   "source": [
    "layer = LayerMulti(\"multi\")\n",
    "\n",
    "def sequencer(sentence):\n",
    "    return [[word.strip()] for word in sentence.split(' ')]\n",
    "\n",
    "\n",
    "for key, lst in layer.columns.items():\n",
    "    print(key, len(lst))\n",
    "\n",
    "s1 = \"The quick brown fox jumped over the lazy dog\"\n",
    "s2 = \"The quick red fox jumped over the lazy dog\"\n",
    "\n",
    "sen1 = sequencer(s1)\n",
    "sen2 = sequencer(s2)\n",
    "rs1 = [[s1]]\n",
    "rs2 = [[s2]]\n",
    "rs3 = [[\"he ate the clams\"],[\"then he felt sick\"]]\n",
    "\n",
    "layer.predict(sen1)\n",
    "layer.predict(sen2)\n",
    "layer.predict(rs1)\n",
    "layer.predict(rs2)\n",
    "layer.predict(rs3)\n",
    "\n",
    "layer.predict(sequencer(\"The quick\"))\n",
    "\n",
    "for key, val in layer.columns.items():\n",
    "    print(key, len(val))\n",
    "\n",
    "layer.predict([[\"he ate the clams\"]])"
   ]
  }
 ],
 "metadata": {
  "kernelspec": {
   "display_name": "Python 3",
   "language": "python",
   "name": "python3"
  },
  "language_info": {
   "codemirror_mode": {
    "name": "ipython",
    "version": 3
   },
   "file_extension": ".py",
   "mimetype": "text/x-python",
   "name": "python",
   "nbconvert_exporter": "python",
   "pygments_lexer": "ipython3",
   "version": "3.6.4"
  }
 },
 "nbformat": 4,
 "nbformat_minor": 2
}
