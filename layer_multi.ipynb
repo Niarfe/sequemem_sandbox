{
 "cells": [
  {
   "cell_type": "code",
   "execution_count": 1,
   "metadata": {},
   "outputs": [
    {
     "name": "stdout",
     "output_type": "stream",
     "text": [
      "\u001b[32mREADME.md\u001b[m\u001b[m                             \u001b[32mpandas_keyword_table.ipynb\u001b[m\u001b[m\r\n",
      "\u001b[32mUntitled.ipynb\u001b[m\u001b[m                        \u001b[32mpredictor.py\u001b[m\u001b[m\r\n",
      "\u001b[30m\u001b[43mdata\u001b[m\u001b[m                                  \u001b[32mrequirements.txt\u001b[m\u001b[m\r\n",
      "\u001b[30m\u001b[43menv\u001b[m\u001b[m                                   \u001b[30m\u001b[43msequemem\u001b[m\u001b[m\r\n",
      "\u001b[32mlayer_multi.ipynb\u001b[m\u001b[m                     \u001b[32msetup.py\u001b[m\u001b[m\r\n",
      "\u001b[32mlookIntoCNNsContextReplaceSheHe.ipynb\u001b[m\u001b[m \u001b[30m\u001b[43mtests\u001b[m\u001b[m\r\n",
      "\u001b[32mmakefile\u001b[m\u001b[m\r\n"
     ]
    }
   ],
   "source": [
    "! ls\n",
    "from sequemem import *"
   ]
  },
  {
   "cell_type": "code",
   "execution_count": 2,
   "metadata": {},
   "outputs": [
    {
     "name": "stdout",
     "output_type": "stream",
     "text": [
      "([['a', 'b'], ['1', '2', '3'], ['d']], 'in predict')\n",
      "('in hit', ['a', 'b'])\n",
      "('in hit', ['1', '2', '3'])\n",
      "('in hit', ['d'])\n",
      "('STATUS multi: ', 'I')\n",
      "a:\t['I']\n",
      "b:\t['I']\n",
      "d:\t['A']\n",
      "1:\t['I']\n",
      "3:\t['I']\n",
      "2:\t['I']\n",
      "([['a', 'b'], ['1', '2', '4'], ['d']], 'in predict')\n",
      "('in hit', ['a', 'b'])\n",
      "('pattern {} is a match!', set(['a', 'b']))\n",
      "('in hit', ['1', '2', '4'])\n",
      "('in hit', ['d'])\n",
      "('STATUS multi: ', 'I')\n",
      "a:\t['I']\n",
      "b:\t['I']\n",
      "d:\t['I', 'A']\n",
      "1:\t['I', 'I']\n",
      "3:\t['I']\n",
      "2:\t['I', 'I']\n",
      "4:\t['I']\n"
     ]
    }
   ],
   "source": [
    "layer = LayerMulti(\"multi\")\n",
    "\n",
    "\n",
    "sequence = [\n",
    "    ['a','b'],\n",
    "    ['1','2','3'],\n",
    "    ['d']\n",
    "]\n",
    "\n",
    "layer.predict(sequence)\n",
    "\n",
    "layer.show_status()\n",
    "\n",
    "sequence = [\n",
    "    ['a','b'],\n",
    "    ['1','2','4'],\n",
    "    ['d']\n",
    "]\n",
    "\n",
    "layer.predict(sequence)\n",
    "\n",
    "layer.show_status()"
   ]
  }
 ],
 "metadata": {
  "kernelspec": {
   "display_name": "Python 2",
   "language": "python",
   "name": "python2"
  },
  "language_info": {
   "codemirror_mode": {
    "name": "ipython",
    "version": 2
   },
   "file_extension": ".py",
   "mimetype": "text/x-python",
   "name": "python",
   "nbconvert_exporter": "python",
   "pygments_lexer": "ipython2",
   "version": "2.7.10"
  }
 },
 "nbformat": 4,
 "nbformat_minor": 2
}
