{
 "cells": [
  {
   "cell_type": "code",
   "execution_count": 5,
   "metadata": {},
   "outputs": [],
   "source": [
    "import sys\n",
    "sys.path.append(\"../sequemem\")\n",
    "import sequemem as sq"
   ]
  },
  {
   "cell_type": "code",
   "execution_count": 16,
   "metadata": {},
   "outputs": [
    {
     "name": "stdout",
     "output_type": "stream",
     "text": [
      "0\n",
      "1000\n"
     ]
    }
   ],
   "source": [
    "layer = sq.Sequemem()\n",
    "layer.train_from_file_group_line('../data/sent_alice_in_wonderland.txt')"
   ]
  },
  {
   "cell_type": "code",
   "execution_count": 23,
   "metadata": {},
   "outputs": [
    {
     "data": {
      "text/plain": [
       "{'He',\n",
       " 'Mouse',\n",
       " 'Rabbit',\n",
       " 'She',\n",
       " 'So',\n",
       " 'There',\n",
       " 'This',\n",
       " 'afraid',\n",
       " 'after',\n",
       " 'am',\n",
       " 'another',\n",
       " 'any',\n",
       " 'away',\n",
       " 'back',\n",
       " 'been',\n",
       " 'before',\n",
       " 'beginning',\n",
       " 'behind',\n",
       " 'being',\n",
       " 'came',\n",
       " 'certainly',\n",
       " 'come',\n",
       " 'cried',\n",
       " 'curious',\n",
       " 'dear',\n",
       " 'door',\n",
       " 'ever',\n",
       " 'eyes',\n",
       " 'face',\n",
       " 'felt',\n",
       " 'find',\n",
       " 'found',\n",
       " 'getting',\n",
       " 'glad',\n",
       " 'going',\n",
       " 'good',\n",
       " 'great',\n",
       " 'half',\n",
       " 'hand',\n",
       " 'hastily',\n",
       " 'hear',\n",
       " 'heard',\n",
       " 'here',\n",
       " 'how',\n",
       " 'idea',\n",
       " 'indeed',\n",
       " 'large',\n",
       " 'last',\n",
       " 'long',\n",
       " 'look',\n",
       " 'looking',\n",
       " 'made',\n",
       " 'make',\n",
       " 'might',\n",
       " 'minute',\n",
       " 'moment',\n",
       " 'must',\n",
       " 'near',\n",
       " 'never',\n",
       " 'next',\n",
       " 'nothing',\n",
       " 'once',\n",
       " 'other',\n",
       " 'over',\n",
       " 'people',\n",
       " 'poor',\n",
       " 'put',\n",
       " 'puzzled',\n",
       " 'question',\n",
       " 'ran',\n",
       " 'rather',\n",
       " 'replied',\n",
       " 'right',\n",
       " 'sat',\n",
       " 'saw',\n",
       " 'seemed',\n",
       " 'seen',\n",
       " 'should',\n",
       " 'size',\n",
       " 'soon',\n",
       " 'sort',\n",
       " 'speak',\n",
       " 'still',\n",
       " 'such',\n",
       " 'sure',\n",
       " 'talking',\n",
       " 'tell',\n",
       " 'than',\n",
       " 'things',\n",
       " 'till',\n",
       " 'too',\n",
       " 'took',\n",
       " 'trying',\n",
       " 'turned',\n",
       " 'turning',\n",
       " 'two',\n",
       " 'under',\n",
       " 'use',\n",
       " 'waited',\n",
       " 'well',\n",
       " 'which',\n",
       " 'while',\n",
       " 'without',\n",
       " 'wonder',\n",
       " 'words'}"
      ]
     },
     "execution_count": 23,
     "metadata": {},
     "output_type": "execute_result"
    }
   ],
   "source": [
    "nns = layer.related_to_word(\"Alice\", remove_common=True\n",
    "                            , nhits=200)\n",
    "nns"
   ]
  }
 ],
 "metadata": {
  "kernelspec": {
   "display_name": "Python 2",
   "language": "python",
   "name": "python2"
  },
  "language_info": {
   "codemirror_mode": {
    "name": "ipython",
    "version": 2
   },
   "file_extension": ".py",
   "mimetype": "text/x-python",
   "name": "python",
   "nbconvert_exporter": "python",
   "pygments_lexer": "ipython2",
   "version": "2.7.10"
  }
 },
 "nbformat": 4,
 "nbformat_minor": 2
}
