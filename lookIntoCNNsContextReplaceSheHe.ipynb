{
 "cells": [
  {
   "cell_type": "markdown",
   "metadata": {},
   "source": [
    "# Experiment to create 'is' layer. \n",
    "\n",
    "Mostly worked, can create a new layer and pack it with shorter sequences, and extract the 'is', 'is a' snippets, but language is complex, the is and isa's are not A is B, or A isa B.  Mostly get A is an adjective bob lohb law..."
   ]
  },
  {
   "cell_type": "code",
   "execution_count": 1,
   "metadata": {},
   "outputs": [],
   "source": [
    "from sequemem import *\n",
    "\n",
    "layer = Layer()\n",
    "layer.train_from_file('data/wonderwoman_lower_no_punct.txt')\n",
    "\n",
    "layer.predict(\"is a\")\n",
    "\n",
    "preds = layer.get_predicted_neurons()\n",
    "\n",
    "for pred in preds:\n",
    "    collec = layer.get_downstreams()"
   ]
  },
  {
   "cell_type": "code",
   "execution_count": 2,
   "metadata": {},
   "outputs": [
    {
     "data": {
      "text/plain": [
       "['he']"
      ]
     },
     "execution_count": 2,
     "metadata": {},
     "output_type": "execute_result"
    }
   ],
   "source": [
    "layer.predict(\"batman has no superpowers instead \")"
   ]
  },
  {
   "cell_type": "code",
   "execution_count": 5,
   "metadata": {},
   "outputs": [],
   "source": [
    "layer_is = Layer()\n",
    "with open('data/wonderwoman_lower_no_punct.txt','r') as source:\n",
    "    for line in source:\n",
    "        sentence = layer.tokenize(line.strip())\n",
    "        inwords = ['','','','','','','']\n",
    "        for idx, word in enumerate(sentence):\n",
    "            inwords.append(word)\n",
    "            pred = layer_is.predict(inwords[idx:])\n",
    "    \n",
    "            "
   ]
  },
  {
   "cell_type": "code",
   "execution_count": 6,
   "metadata": {},
   "outputs": [
    {
     "name": "stdout",
     "output_type": "stream",
     "text": [
      "diana is not just a princess and not\n",
      "and is spreading her peaceful message to the\n",
      "who is so dangerous no super hero can\n",
      "woman is one of the most powerful super\n",
      "that is when it is time to team\n",
      "fairly is the best way to solve problems\n",
      "it is so strong that not even superman\n",
      "this is very useful when combined with athena\n",
      "steve is always happy to fight crime with\n",
      "he is a master of strategy so his\n",
      "ocean is home to a tribe of immortal\n",
      "course is that diana is not just a\n",
      "magic is strong because she is related to\n",
      "super-villain is a gigantic challenge for wonder woman\n",
      "circe is a very evil and very powerful\n",
      "aquaman is the son of a human father\n"
     ]
    }
   ],
   "source": [
    "layer_is.columns.keys()\n",
    "def follow_leads(layer, init_string):\n",
    "    assert type(init_string) == type(\"\")\n",
    "    pred = layer.predict(init_string)\n",
    "    if len(pred) > 5 or len(pred) == 0:\n",
    "        return init_string\n",
    "    else:\n",
    "        for word in pred:\n",
    "            return follow_leads(layer, f\"{init_string} {word}\")\n",
    "                    \n",
    "for key in layer_is.column_keys():\n",
    "    resp = follow_leads(layer_is, f\"{key} is\")\n",
    "    if (len(resp.split(' ')) > 2):\n",
    "        print(resp)\n"
   ]
  }
 ],
 "metadata": {
  "kernelspec": {
   "display_name": "Python 3",
   "language": "python",
   "name": "python3"
  },
  "language_info": {
   "codemirror_mode": {
    "name": "ipython",
    "version": 3
   },
   "file_extension": ".py",
   "mimetype": "text/x-python",
   "name": "python",
   "nbconvert_exporter": "python",
   "pygments_lexer": "ipython3",
   "version": "3.6.4"
  }
 },
 "nbformat": 4,
 "nbformat_minor": 2
}
