{
 "cells": [
  {
   "cell_type": "code",
   "execution_count": 1,
   "metadata": {},
   "outputs": [],
   "source": [
    "# python3\n",
    "import sys\n",
    "sys.path.append(\"./sequemem\")\n",
    "from neuron import *\n",
    "from sequemem import *\n",
    "import random\n",
    "import numpy as np\n",
    "import pandas as pd"
   ]
  },
  {
   "cell_type": "code",
   "execution_count": 2,
   "metadata": {},
   "outputs": [
    {
     "name": "stdout",
     "output_type": "stream",
     "text": [
      "starting:  data/00_clean/sent_alice_in_wonderland.txt\n",
      "Loading file data/00_clean/sent_alice_in_wonderland.txt\n",
      "0\n",
      "starting:  data/00_clean/sent_andersens_fairy_tales_pg1597.txt\n",
      "Loading file data/00_clean/sent_andersens_fairy_tales_pg1597.txt\n",
      "0\n",
      "starting:  data/00_clean/sent_cats_of_ulthar.txt\n",
      "Loading file data/00_clean/sent_cats_of_ulthar.txt\n",
      "0\n",
      "starting:  data/00_clean/sent_fairy_tales.txt\n",
      "Loading file data/00_clean/sent_fairy_tales.txt\n",
      "0\n",
      "starting:  data/00_clean/sent_grimms_fairy_tales.txt\n",
      "Loading file data/00_clean/sent_grimms_fairy_tales.txt\n",
      "0\n",
      "starting:  data/00_clean/sent_iris_fairy_tales.txt\n",
      "Loading file data/00_clean/sent_iris_fairy_tales.txt\n",
      "0\n",
      "starting:  data/00_clean/sent_jungle_book_236-0.txt\n",
      "Loading file data/00_clean/sent_jungle_book_236-0.txt\n",
      "0\n",
      "starting:  data/00_clean/sent_king_james_bible.txt\n",
      "Loading file data/00_clean/sent_king_james_bible.txt\n",
      "0\n",
      "10000\n",
      "20000\n",
      "30000\n",
      "40000\n",
      "50000\n",
      "60000\n",
      "starting:  data/00_clean/sent_shakespear.txt\n",
      "Loading file data/00_clean/sent_shakespear.txt\n",
      "0\n",
      "10000\n",
      "20000\n",
      "30000\n",
      "40000\n",
      "50000\n",
      "60000\n",
      "70000\n",
      "80000\n",
      "90000\n",
      "100000\n",
      "starting:  data/00_clean/sent_tao_te_king.txt\n",
      "Loading file data/00_clean/sent_tao_te_king.txt\n",
      "0\n",
      "starting:  data/00_clean/sent_the_prince.txt\n",
      "Loading file data/00_clean/sent_the_prince.txt\n",
      "0\n",
      "starting:  data/00_clean/sent_thousand_and_one.txt\n",
      "Loading file data/00_clean/sent_thousand_and_one.txt\n",
      "0\n",
      "starting:  data/00_clean/sents_fables_la_fontaine.txt\n",
      "Loading file data/00_clean/sents_fables_la_fontaine.txt\n",
      "0\n"
     ]
    }
   ],
   "source": [
    "layer = LayerCount()\n",
    "\n",
    "files = [\n",
    "   'data/00_clean/sent_alice_in_wonderland.txt',\n",
    "   'data/00_clean/sent_andersens_fairy_tales_pg1597.txt',\n",
    "   'data/00_clean/sent_cats_of_ulthar.txt',\n",
    "   'data/00_clean/sent_fairy_tales.txt',\n",
    "   'data/00_clean/sent_grimms_fairy_tales.txt',\n",
    "   'data/00_clean/sent_iris_fairy_tales.txt',\n",
    "   'data/00_clean/sent_jungle_book_236-0.txt',\n",
    "   'data/00_clean/sent_king_james_bible.txt',\n",
    "   'data/00_clean/sent_shakespear.txt',\n",
    "   'data/00_clean/sent_tao_te_king.txt',\n",
    "   'data/00_clean/sent_the_prince.txt',\n",
    "   'data/00_clean/sent_thousand_and_one.txt',\n",
    "   'data/00_clean/sents_fables_la_fontaine.txt',\n",
    "]\n",
    "\n",
    "for f in files:\n",
    "    print(\"starting: \", f)\n",
    "    layer.load_from_file(f)\n"
   ]
  },
  {
   "cell_type": "code",
   "execution_count": 21,
   "metadata": {},
   "outputs": [
    {
     "name": "stdout",
     "output_type": "stream",
     "text": [
      "['man', 'every', 'any', 'young', 'Son', 'beast', 'honest', 'learned', 'Every', 'neighbour']\n",
      "['woman', 'old', 'husband', 'child', 'wise', 'born', 'herself', 'travail', 'beautiful', 'strange']\n"
     ]
    },
    {
     "data": {
      "text/plain": [
       "0.0"
      ]
     },
     "execution_count": 21,
     "metadata": {},
     "output_type": "execute_result"
    }
   ],
   "source": [
    "layer.get_frequency_dict();\n",
    "def jaccard(w1, w2, _w=5, _c=10, _r=0.25):\n",
    "    _,_,lst1 = layer.comparison_frequencies(w1, window_size=_w,ratio=_r, cutoff=_c);\n",
    "    _,_,lst2 = layer.comparison_frequencies(w2, window_size=_w,ratio=_r, cutoff=_c);\n",
    "    print(lst1[:10])\n",
    "    print(lst2[:10])\n",
    "\n",
    "    u = len(set(lst1).union(set(lst2)))\n",
    "    i = len(set(lst1).intersection(set(lst2)))\n",
    "    return float(i)/float(u)\n",
    "    \n",
    "jaccard('man','woman')"
   ]
  },
  {
   "cell_type": "code",
   "execution_count": 34,
   "metadata": {
    "scrolled": true
   },
   "outputs": [
    {
     "name": "stdout",
     "output_type": "stream",
     "text": [
      "['Morgiana']\n",
      "['Baba']\n",
      "['Morgiana']\n",
      "['Baba']\n",
      "['Morgiana', 'who', 'replied', 'taking', 'remembering', 'retired', 'Baba', 'Ali', 'thanked', 'ordered']\n",
      "['Baba', 'Ali', 'Mustapha', 'replied', 'followed', 'orders', 'knocked', 'poverty', 'stopping', 'residence']\n",
      "['Morgiana', 'Ali', 'who', 'went', 'Baba', 'replied', 'opened', 'slave', 'taking', 'remembering']\n",
      "['Baba', 'Ali', 'Mustapha', 'replied', 'Morgiana', 'got', 'While', 'Cogia', 'followed', 'rose']\n",
      "['Morgiana', 'Ali', 'Baba', 'who', 'went', 'replied', 'courage', 'opened', 'Mustapha', 'slave']\n",
      "['Baba', 'Ali', 'Mustapha', 'Morgiana', 'replied', 'Cogia', 'door', 'got', 'While', 'expected']\n",
      "['Morgiana', 'Baba', 'Ali', 'who', 'went', 'slave', 'ready', 'replied', 'courage', 'gave']\n",
      "['Baba', 'Ali', 'Mustapha', 'Morgiana', 'replied', 'Cogia', 'Houssain', 'door', 'Cassim', 'got']\n",
      "['Morgiana', 'Ali', 'Baba', 'who', 'went', 'door', 'supper', 'slave', 'ready', 'replied']\n",
      "['Baba', 'Ali', 'Mustapha', 'Morgiana', 'gold', 'door', 'replied', 'Cassim', 'Cogia', 'Houssain']\n",
      "['Morgiana', 'Baba', 'Ali', 'went', 'who', 'door', 'supper', 'slave', 'ready', 'replied']\n",
      "['Baba', 'Ali', 'Mustapha', 'Morgiana', 'gold', 'door', 'Houssain', 'replied', 'wife', 'Cassim']\n",
      "['Morgiana', 'Baba', 'Ali', 'went', 'who', 'door', 'supper', 'eyes', 'slave', 'ready']\n",
      "['Baba', 'Ali', 'Mustapha', 'Morgiana', 'gold', 'Houssain', 'door', 'Cassim', 'Cogia', 'replied']\n",
      "['Morgiana', 'Baba', 'Ali', 'went', 'who', 'door', 'supper', 'master', 'eyes', 'returned']\n",
      "['Baba', 'Ali', 'Mustapha', 'Morgiana', 'gold', 'Cogia', 'Houssain', 'door', 'Cassim', 'took']\n",
      "['Morgiana', 'Baba', 'Ali', 'went', 'who', 'door', 'supper', 'ready', 'master', 'eyes']\n",
      "['Baba', 'Ali', 'Mustapha', 'Morgiana', 'gold', 'Cassim', 'Cogia', 'Houssain', 'door', 'wife']\n",
      "['Morgiana', 'Baba', 'Ali', 'went', 'who', 'into', 'door', 'supper', 'ready', 'master']\n",
      "['Baba', 'Ali', 'Mustapha', 'Morgiana', 'Cassim', 'wife', 'gold', 'Cogia', 'Houssain', 'door']\n",
      "['Morgiana', 'Baba', 'Ali', 'had', 'went', 'who', 'into', 'door', 'supper', 'returned']\n",
      "['Baba', 'Ali', 'Mustapha', 'Morgiana', 'house', 'Cassim', 'gold', 'Cogia', 'door', 'wife']\n",
      "['Morgiana', 'Baba', 'her', 'Ali', 'had', 'into', 'went', 'who', 'door', 'eyes']\n",
      "['Baba', 'Ali', 'had', 'Mustapha', 'Morgiana', 'Cassim', 'house', 'gold', 'Houssain', 'wife']\n",
      "['Morgiana', 'Baba', 'her', 'Ali', 'had', 'into', 'went', 'who', 'put', 'door']\n",
      "['Baba', 'Ali', 'had', 'Mustapha', 'Morgiana', 'son', 'Cassim', 'house', 'great', 'went']\n",
      "['Morgiana', 'Baba', 'Ali', 'her', 'had', 'into', 'went', 'who', 'put', 'door']\n",
      "['Baba', 'Ali', 'had', 'Mustapha', 'Morgiana', 'son', 'house', 'Cassim', 'great', 'went']\n",
      "['Morgiana', 'Baba', 'Ali', 'her', 'had', 'she', 'into', 'went', 'who', 'house']\n",
      "['Baba', 'Ali', 'had', 'Mustapha', 'Morgiana', 'son', 'house', 'Cassim', 'Cogia', 'great']\n",
      "['Morgiana', 'Baba', 'Ali', 'her', 'had', 'she', 'into', 'went', 'who', 'house']\n",
      "['Baba', 'Ali', 'had', 'Mustapha', 'Morgiana', 'son', 'house', 'Cassim', 'Cogia', 'Houssain']\n",
      "['Morgiana', 'Baba', 'Ali', 'her', 'had', 'she', 'into', 'went', 'who', 'house']\n",
      "['Baba', 'Ali', 'had', 'Morgiana', 'Mustapha', 'son', 'Cassim', 'house', 'Cogia', 'went']\n",
      "['Morgiana', 'Baba', 'her', 'Ali', 'had', 'she', 'into', 'went', 'who', 'house']\n",
      "['Baba', 'Ali', 'had', 'Morgiana', 'Mustapha', 'son', 'into', 'house', 'went', 'Cassim']\n",
      "['Morgiana', 'Baba', 'her', 'had', 'Ali', 'she', 'into', 'who', 'went', 'house']\n",
      "['Baba', 'Ali', 'had', 'Morgiana', 'Mustapha', 'into', 'son', 'went', 'house', 'Cogia']\n",
      "['Morgiana', 'Baba', 'had', 'her', 'Ali', 'she', 'into', 'who', 'went', 'house']\n",
      "['Baba', 'Ali', 'had', 'Morgiana', 'Mustapha', 'into', 'son', 'went', 'Cassim', 'himself']\n",
      "['Morgiana', 'had', 'Baba', 'her', 'Ali', 'she', 'into', 'who', 'went', 'put']\n",
      "['Baba', 'Ali', 'had', 'Morgiana', 'Mustapha', 'into', 'son', 'went', 'Cassim', 'himself']\n",
      "['Morgiana', 'Baba', 'had', 'her', 'Ali', 'she', 'into', 'who', 'went', 'put']\n",
      "['Baba', 'Ali', 'had', 'Morgiana', 'Mustapha', 'into', 'son', 'went', 'Cassim', 'himself']\n",
      "['Morgiana', 'Baba', 'had', 'Ali', 'her', 'she', 'into', 'went', 'who', 'out']\n",
      "['Baba', 'Ali', 'had', 'Morgiana', 'at', 'Mustapha', 'into', 'son', 'came', 'went']\n",
      "['Morgiana', 'Baba', 'had', 'Ali', 'her', 'she', 'into', 'went', 'out', 'who']\n",
      "['Baba', 'Ali', 'his', 'had', 'Morgiana', 'at', 'Mustapha', 'into', 'son', 'house']\n",
      "['Morgiana', 'Baba', 'had', 'Ali', 'her', 'she', 'into', 'went', 'out', 'who']\n",
      "['Baba', 'Ali', 'his', 'had', 'Morgiana', 'at', 'Mustapha', 'into', 'son', 'house']\n",
      "['Morgiana', 'Baba', 'had', 'Ali', 'her', 'she', 'into', 'went', 'out', 'who']\n",
      "['Baba', 'Ali', 'his', 'had', 'Morgiana', 'at', 'Mustapha', 'into', 'went', 'son']\n",
      "['Morgiana', 'had', 'Baba', 'Ali', 'her', 'she', 'into', 'went', 'out', 'who']\n",
      "['Baba', 'Ali', 'his', 'was', 'had', 'Morgiana', 'at', 'into', 'Mustapha', 'went']\n",
      "['Morgiana', 'had', 'Baba', 'Ali', 'her', 'she', 'into', 'went', 'out', 'who']\n",
      "['Baba', 'Ali', 'his', 'was', 'had', 'Morgiana', 'at', 'into', 'Mustapha', 'went']\n",
      "['to', 'Morgiana', 'had', 'Baba', 'Ali', 'her', 'she', 'went', 'into', 'out']\n",
      "['Baba', 'Ali', 'his', 'he', 'had', 'was', 'Morgiana', 'at', 'into', 'Mustapha']\n",
      "['to', 'Morgiana', 'his', 'had', 'Baba', 'Ali', 'her', 'she', 'went', 'into']\n",
      "['Baba', 'Ali', 'his', 'he', 'was', 'had', 'Morgiana', 'at', 'which', 'into']\n",
      "['to', 'Morgiana', 'his', 'had', 'Baba', 'Ali', 'her', 'she', 'went', 'into']\n",
      "['Baba', 'Ali', 'his', 'he', 'was', 'had', 'Morgiana', 'at', 'which', 'into']\n",
      "['to', 'Morgiana', 'his', 'had', 'Baba', 'Ali', 'her', 'she', 'went', 'into']\n",
      "['Baba', 'he', 'Ali', 'his', 'was', 'had', 'Morgiana', 'at', 'which', 'into']\n",
      "['to', 'Morgiana', 'his', 'had', 'Baba', 'Ali', 'her', 'she', 'went', 'into']\n",
      "['Baba', 'he', 'Ali', 'his', 'had', 'was', 'Morgiana', 'at', 'which', 'she']\n",
      "['to', 'Morgiana', 'his', 'had', 'Baba', 'Ali', 'her', 'she', 'went', 'into']\n",
      "['to', 'Baba', 'he', 'Ali', 'his', 'had', 'was', 'Morgiana', 'at', 'which']\n",
      "['to', 'Morgiana', 'his', 'had', 'Baba', 'Ali', 'her', 'she', 'went', 'into']\n",
      "['to', 'Baba', 'he', 'Ali', 'his', 'had', 'was', 'Morgiana', 'at', 'which']\n",
      "['to', 'Morgiana', 'his', 'had', 'Baba', 'Ali', 'her', 'she', 'went', 'into']\n",
      "['to', 'Baba', 'he', 'his', 'Ali', 'had', 'was', 'Morgiana', 'at', 'which']\n",
      "['to', 'Morgiana', 'his', 'had', 'Baba', 'Ali', 'her', 'she', 'went', 'into']\n",
      "['to', 'Baba', 'he', 'his', 'Ali', 'had', 'was', 'Morgiana', 'at', 'which']\n",
      "['to', 'Morgiana', 'his', 'had', 'Baba', 'her', 'Ali', 'she', 'went', 'into']\n",
      "['to', 'Baba', 'he', 'his', 'Ali', 'had', 'him', 'was', 'at', 'Morgiana']\n",
      "['to', 'Morgiana', 'his', 'had', 'Baba', 'Ali', 'her', 'she', 'went', 'into']\n",
      "['to', 'Baba', 'he', 'his', 'Ali', 'had', 'him', 'was', 'Morgiana', 'at']\n",
      "['to', 'Morgiana', 'his', 'had', 'Baba', 'Ali', 'her', 'she', 'into', 'went']\n",
      "['to', 'Baba', 'he', 'his', 'Ali', 'had', 'him', 'was', 'Morgiana', 'at']\n",
      "['to', 'Morgiana', 'his', 'had', 'Baba', 'Ali', 'her', 'she', 'into', 'went']\n",
      "['to', 'Baba', 'he', 'his', 'Ali', 'had', 'him', 'was', 'Morgiana', 'she']\n",
      "['to', 'Morgiana', 'his', 'had', 'Baba', 'Ali', 'her', 'she', 'into', 'went']\n",
      "['to', 'Baba', 'he', 'his', 'Ali', 'had', 'him', 'was', 'she', 'Morgiana']\n",
      "['to', 'Morgiana', 'his', 'had', 'Baba', 'Ali', 'her', 'she', 'into', 'went']\n",
      "['to', 'Baba', 'he', 'his', 'Ali', 'had', 'him', 'was', 'Morgiana', 'she']\n",
      "['to', 'Morgiana', 'his', 'had', 'Baba', 'Ali', 'her', 'she', 'into', 'went']\n",
      "['to', 'Baba', 'he', 'his', 'Ali', 'had', 'him', 'was', 'Morgiana', 'she']\n",
      "['to', 'Morgiana', 'his', 'had', 'Baba', 'Ali', 'her', 'she', 'into', 'went']\n",
      "['to', 'Baba', 'he', 'his', 'Ali', 'had', 'him', 'was', 'Morgiana', 'she']\n",
      "['to', 'Morgiana', 'his', 'had', 'Baba', 'Ali', 'her', 'she', 'into', 'went']\n",
      "['to', 'he', 'Baba', 'his', 'Ali', 'had', 'him', 'was', 'Morgiana', 'she']\n",
      "['to', 'Morgiana', 'his', 'had', 'Baba', 'Ali', 'her', 'she', 'into', 'went']\n",
      "['to', 'he', 'Baba', 'his', 'Ali', 'had', 'him', 'was', 'Morgiana', 'she']\n",
      "['to', 'Morgiana', 'his', 'had', 'Baba', 'Ali', 'her', 'she', 'into', 'went']\n",
      "['to', 'he', 'Baba', 'his', 'Ali', 'had', 'him', 'was', 'she', 'Morgiana']\n"
     ]
    },
    {
     "data": {
      "text/plain": [
       "[<matplotlib.lines.Line2D at 0x14ed99f60>]"
      ]
     },
     "execution_count": 34,
     "metadata": {},
     "output_type": "execute_result"
    },
    {
     "data": {
      "image/png": "[encoded data removed]",
      "text/plain": [
       "<matplotlib.figure.Figure at 0x14ed13748>"
      ]
     },
     "metadata": {},
     "output_type": "display_data"
    }
   ],
   "source": [
    "\n",
    "#layer.get_counts_for_specific_key('fox').most_common()\n",
    "layer.window_size = 1\n",
    "layer.get_frequency_dict()\n",
    "w = 5\n",
    "c = 10\n",
    "r = 0.15\n",
    "_range = 50\n",
    "w1 = 'Morgiana'\n",
    "w2 = 'Baba'\n",
    "\n",
    "\n",
    "profile = [jaccard(w1, w2, _w=_wdx, _c=c, _r=r) for _wdx in range(_range)];\n",
    "plt.axis([0, _range, 0, 1])\n",
    "plt.plot(profile)"
   ]
  },
  {
   "cell_type": "code",
   "execution_count": 33,
   "metadata": {},
   "outputs": [
    {
     "name": "stdout",
     "output_type": "stream",
     "text": [
      "47773\n"
     ]
    },
    {
     "data": {
      "image/png": "[encoded data removed]",
      "text/plain": [
       "<matplotlib.figure.Figure at 0x14d4f43c8>"
      ]
     },
     "metadata": {},
     "output_type": "display_data"
    },
    {
     "data": {
      "text/plain": [
       "0.004822708967684903"
      ]
     },
     "execution_count": 33,
     "metadata": {},
     "output_type": "execute_result"
    }
   ],
   "source": [
    "import matplotlib.pyplot as plt\n",
    "import numpy as np\n",
    "print(len(layer.get_frequency_dict()[1]))\n",
    "a = np.random.random((128, 128))\n",
    "plt.imshow(a, cmap='hot', interpolation='nearest')\n",
    "plt.show()\n",
    "layer.get_frequency_dict()[1][\"Jesus\"]"
   ]
  },
  {
   "cell_type": "code",
   "execution_count": 34,
   "metadata": {},
   "outputs": [
    {
     "data": {
      "text/plain": [
       "0.004822708967684903"
      ]
     },
     "execution_count": 34,
     "metadata": {},
     "output_type": "execute_result"
    }
   ],
   "source": [
    "layer.get_frequency_dict()[1][\"Jesus\"]"
   ]
  },
  {
   "cell_type": "code",
   "execution_count": 13,
   "metadata": {},
   "outputs": [
    {
     "data": {
      "text/plain": [
       "['b', 'c']"
      ]
     },
     "execution_count": 13,
     "metadata": {},
     "output_type": "execute_result"
    }
   ],
   "source": [
    "l = ['a','b','c']\n",
    "var = l.pop(0)\n",
    "r = l[:]\n",
    "l.pop(0)\n",
    "l\n",
    "r"
   ]
  },
  {
   "cell_type": "code",
   "execution_count": null,
   "metadata": {},
   "outputs": [],
   "source": [
    "import matplotlib.pyplot as plt\n",
    "%matplotlib inline"
   ]
  },
  {
   "cell_type": "code",
   "execution_count": null,
   "metadata": {},
   "outputs": [],
   "source": [
    "cnt, dct = layer.initialize_frequency_dict()"
   ]
  },
  {
   "cell_type": "code",
   "execution_count": null,
   "metadata": {},
   "outputs": [],
   "source": [
    "# comparison_frequencies\n",
    "layer.comparison_frequencies('men', ratio=0.5, cutoff=50, visualize_it=False);"
   ]
  },
  {
   "cell_type": "code",
   "execution_count": null,
   "metadata": {},
   "outputs": [],
   "source": [
    "layer.get_counts_for_specific_key('love').most_common(100)"
   ]
  },
  {
   "cell_type": "code",
   "execution_count": null,
   "metadata": {},
   "outputs": [],
   "source": [
    "# head_keys = layer.columns.keys()\n",
    "# neurons = list({neuron for column in layer.columns.values() for neuron in column})\n",
    "# one_hot_raw = np.eye(len(head_keys), dtype=int)\n",
    "# len(one_hot_raw)\n",
    "# d_head_keys = {}\n",
    "# for idx, word in enumerate(head_keys):\n",
    "#     d_head_keys[word] = one_hot_raw[idx]\n",
    "# len(d_head_keys)\n",
    "# ar_sent_vecs = np.zeros((len(neurons),len(head_keys)))\n",
    "# ar_sent_vecs.shape"
   ]
  },
  {
   "cell_type": "code",
   "execution_count": null,
   "metadata": {},
   "outputs": [],
   "source": [
    "# headkeys = layer.columns.keys()\n",
    "# neurons = list({neuron for column in layer.columns.values() for neuron in column})\n",
    "# print(len(neurons)) # 481334 as list\n",
    "#                     #  32796 as set\n",
    "\n",
    "# for idx, neuron in enumerate(neurons):\n",
    "#     if idx % 1000 == 0:\n",
    "#         print(idx)\n",
    "#     for _key in neuron.keys:\n",
    "#         ar_sent_vecs[idx] = np.add(ar_sent_vecs[idx], d_head_keys[_key])\n",
    "                \n",
    "\n",
    "# ar_sent_vecs.shape\n",
    "        "
   ]
  },
  {
   "cell_type": "code",
   "execution_count": null,
   "metadata": {},
   "outputs": [],
   "source": [
    "# np.sum(ar_sent_vecs[100])"
   ]
  },
  {
   "cell_type": "code",
   "execution_count": null,
   "metadata": {},
   "outputs": [],
   "source": [
    "# from sklearn.cluster import KMeans\n",
    "# class KMeans():\n",
    "#     def compute_clusters(self, X, centers):\n",
    "#         return np.argmin([np.linalg.norm(X-c, axis=1) for c in centers], axis=0)\n",
    "#     def compute_centers(self, X, clusters):\n",
    "#         return np.array([X[clusters == c,].mean(0) for c in set(clusters)])\n",
    "#     def fit(self, X, k, n_iter=100):\n",
    "#         print('A')\n",
    "#         clusters = self.compute_clusters(X, np.array(random.sample(list(X), k)))\n",
    "#         for idx in range(n_iter):\n",
    "#             print(idx)\n",
    "#             #if idx % 10 == 0: print(idx)\n",
    "#             centers = self.compute_centers(X, clusters)\n",
    "#             clusters = self.compute_clusters(X, centers)\n",
    "#         return clusters"
   ]
  },
  {
   "cell_type": "code",
   "execution_count": null,
   "metadata": {},
   "outputs": [],
   "source": [
    "\n",
    "# import numpy as np\n",
    "# X = np.array([[1, 2], [1, 4], [1, 0],\n",
    "#               [4, 2], [4, 4], [4, 0]])\n",
    "# kmeans = KMeans(n_clusters=2, random_state=0).fit(X)\n",
    "# kmeans.labels_\n",
    "# #> array([0, 0, 0, 1, 1, 1], dtype=int32)\n",
    "# kmeans.predict([[0, 0], [4, 4]])\n",
    "# #> array([0, 1], dtype=int32)\n",
    "# kmeans.cluster_centers_\n",
    "# #> array([[ 1.,  2.],\n",
    "# #>     [ 4.,  2.]])"
   ]
  },
  {
   "cell_type": "code",
   "execution_count": null,
   "metadata": {},
   "outputs": [],
   "source": [
    "# %time\n",
    "# clusters = KMeans(n_clusters=64, random_state=0).fit(ar_sent_vecs[:2000])\n",
    "# clusters.labels_"
   ]
  },
  {
   "cell_type": "code",
   "execution_count": null,
   "metadata": {},
   "outputs": [],
   "source": [
    "# clusters.labels_[200:300]"
   ]
  }
 ],
 "metadata": {
  "kernelspec": {
   "display_name": "Python 3",
   "language": "python",
   "name": "python3"
  },
  "language_info": {
   "codemirror_mode": {
    "name": "ipython",
    "version": 3
   },
   "file_extension": ".py",
   "mimetype": "text/x-python",
   "name": "python",
   "nbconvert_exporter": "python",
   "pygments_lexer": "ipython3",
   "version": "3.6.4"
  }
 },
 "nbformat": 4,
 "nbformat_minor": 2
}
