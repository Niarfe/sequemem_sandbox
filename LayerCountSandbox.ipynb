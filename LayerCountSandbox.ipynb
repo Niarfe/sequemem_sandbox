{
 "cells": [
  {
   "cell_type": "code",
   "execution_count": 1,
   "metadata": {},
   "outputs": [],
   "source": [
    "# python3\n",
    "import sys\n",
    "sys.path.append(\"./sequemem\")\n",
    "from neuron import *\n",
    "from sequemem import *\n",
    "import random\n",
    "import numpy as np\n",
    "import pandas as pd"
   ]
  },
  {
   "cell_type": "code",
   "execution_count": 2,
   "metadata": {},
   "outputs": [
    {
     "name": "stdout",
     "output_type": "stream",
     "text": [
      "starting:  data/00_clean/sent_alice_in_wonderland.txt\n",
      "Loading file data/00_clean/sent_alice_in_wonderland.txt\n",
      "0\n",
      "starting:  data/00_clean/sent_andersens_fairy_tales_pg1597.txt\n",
      "Loading file data/00_clean/sent_andersens_fairy_tales_pg1597.txt\n",
      "0\n",
      "starting:  data/00_clean/sent_cats_of_ulthar.txt\n",
      "Loading file data/00_clean/sent_cats_of_ulthar.txt\n",
      "0\n",
      "starting:  data/00_clean/sent_fairy_tales.txt\n",
      "Loading file data/00_clean/sent_fairy_tales.txt\n",
      "0\n",
      "starting:  data/00_clean/sent_grimms_fairy_tales.txt\n",
      "Loading file data/00_clean/sent_grimms_fairy_tales.txt\n",
      "0\n",
      "starting:  data/00_clean/sent_iris_fairy_tales.txt\n",
      "Loading file data/00_clean/sent_iris_fairy_tales.txt\n",
      "0\n",
      "starting:  data/00_clean/sent_jungle_book_236-0.txt\n",
      "Loading file data/00_clean/sent_jungle_book_236-0.txt\n",
      "0\n",
      "starting:  data/00_clean/sent_king_james_bible.txt\n",
      "Loading file data/00_clean/sent_king_james_bible.txt\n",
      "0\n",
      "10000\n",
      "20000\n",
      "30000\n",
      "40000\n",
      "50000\n",
      "60000\n",
      "starting:  data/00_clean/sent_shakespear.txt\n",
      "Loading file data/00_clean/sent_shakespear.txt\n",
      "0\n",
      "10000\n",
      "20000\n",
      "30000\n",
      "40000\n",
      "50000\n",
      "60000\n",
      "70000\n",
      "80000\n",
      "90000\n",
      "100000\n",
      "starting:  data/00_clean/sent_tao_te_king.txt\n",
      "Loading file data/00_clean/sent_tao_te_king.txt\n",
      "0\n",
      "starting:  data/00_clean/sent_the_prince.txt\n",
      "Loading file data/00_clean/sent_the_prince.txt\n",
      "0\n",
      "starting:  data/00_clean/sent_thousand_and_one.txt\n",
      "Loading file data/00_clean/sent_thousand_and_one.txt\n",
      "0\n",
      "starting:  data/00_clean/sents_fables_la_fontaine.txt\n",
      "Loading file data/00_clean/sents_fables_la_fontaine.txt\n",
      "0\n"
     ]
    }
   ],
   "source": [
    "layer = LayerCount()\n",
    "\n",
    "files = [\n",
    "   'data/00_clean/sent_alice_in_wonderland.txt',\n",
    "   'data/00_clean/sent_andersens_fairy_tales_pg1597.txt',\n",
    "   'data/00_clean/sent_cats_of_ulthar.txt',\n",
    "   'data/00_clean/sent_fairy_tales.txt',\n",
    "   'data/00_clean/sent_grimms_fairy_tales.txt',\n",
    "   'data/00_clean/sent_iris_fairy_tales.txt',\n",
    "   'data/00_clean/sent_jungle_book_236-0.txt',\n",
    "   'data/00_clean/sent_king_james_bible.txt',\n",
    "   'data/00_clean/sent_shakespear.txt',\n",
    "   'data/00_clean/sent_tao_te_king.txt',\n",
    "   'data/00_clean/sent_the_prince.txt',\n",
    "   'data/00_clean/sent_thousand_and_one.txt',\n",
    "   'data/00_clean/sents_fables_la_fontaine.txt',\n",
    "]\n",
    "\n",
    "for f in files:\n",
    "    print(\"starting: \", f)\n",
    "    layer.load_from_file(f)\n"
   ]
  },
  {
   "cell_type": "code",
   "execution_count": 3,
   "metadata": {},
   "outputs": [
    {
     "name": "stdout",
     "output_type": "stream",
     "text": [
      "Re-iitializing dictionary\n",
      "Count for  castle  is  222.0\n",
      "Going to start visual with ['castle', 'into', 'came', 'went', 'where', 'could', 'wood', 'Before', 'night', 'saw', 'till', 'gate', 'seen', 'Stromberg', 'enchanted', 'princess', 'left', 'hundred', 'within', 'found', 'room']\n",
      "[1.0044592585919554, 0.09909463537678484, 0.08558173055267781, 0.07206882572857079, 0.06756452412053511, 0.04954731768839242, 0.04053871447232107, 0.04053871447232107, 0.036034412864285395, 0.036034412864285395, 0.03153011125624972, 0.03153011125624972, 0.03153011125624972, 0.027025809648214046, 0.027025809648214046, 0.027025809648214046, 0.027025809648214046, 0.027025809648214046, 0.027025809648214046, 0.027025809648214046, 0.027025809648214046]\n",
      "[0.001080443964247127, 0.021196346134957272, 0.019384146940379137, 0.014644926824476967, 0.009390040271093213, 0.010848639622826834, 0.0021412434927806697, 0.001389843826736077, 0.007769374324722522, 0.007739907671152146, 0.0066201748354778505, 0.0021412434927806697, 0.004493664669482369, 2.946665357037619e-05, 0.00013259994106669287, 0.0019742657892152047, 0.005225419899813378, 0.004542775758766329, 0.0032904429820253414, 0.0062862194283469204, 0.0015617326392299382]\n",
      "['castle', 'into', 'came', 'went', 'where', 'could', 'wood', 'Before', 'night', 'saw', 'till', 'gate', 'seen', 'Stromberg', 'enchanted', 'princess', 'left', 'hundred', 'within', 'found', 'room']\n"
     ]
    },
    {
     "data": {
      "image/png": "[encoded data removed]",
      "text/plain": [
       "<matplotlib.figure.Figure at 0x104b4be48>"
      ]
     },
     "metadata": {},
     "output_type": "display_data"
    },
    {
     "data": {
      "text/plain": [
       "([0.001080443964247127,\n",
       "  0.021196346134957272,\n",
       "  0.019384146940379137,\n",
       "  0.014644926824476967,\n",
       "  0.009390040271093213,\n",
       "  0.010848639622826834,\n",
       "  0.0021412434927806697,\n",
       "  0.001389843826736077,\n",
       "  0.007769374324722522,\n",
       "  0.007739907671152146,\n",
       "  0.0066201748354778505,\n",
       "  0.0021412434927806697,\n",
       "  0.004493664669482369,\n",
       "  2.946665357037619e-05,\n",
       "  0.00013259994106669287,\n",
       "  0.0019742657892152047,\n",
       "  0.005225419899813378,\n",
       "  0.004542775758766329,\n",
       "  0.0032904429820253414,\n",
       "  0.0062862194283469204,\n",
       "  0.0015617326392299382],\n",
       " [1.0044592585919554,\n",
       "  0.09909463537678484,\n",
       "  0.08558173055267781,\n",
       "  0.07206882572857079,\n",
       "  0.06756452412053511,\n",
       "  0.04954731768839242,\n",
       "  0.04053871447232107,\n",
       "  0.04053871447232107,\n",
       "  0.036034412864285395,\n",
       "  0.036034412864285395,\n",
       "  0.03153011125624972,\n",
       "  0.03153011125624972,\n",
       "  0.03153011125624972,\n",
       "  0.027025809648214046,\n",
       "  0.027025809648214046,\n",
       "  0.027025809648214046,\n",
       "  0.027025809648214046,\n",
       "  0.027025809648214046,\n",
       "  0.027025809648214046,\n",
       "  0.027025809648214046,\n",
       "  0.027025809648214046],\n",
       " ['castle',\n",
       "  'into',\n",
       "  'came',\n",
       "  'went',\n",
       "  'where',\n",
       "  'could',\n",
       "  'wood',\n",
       "  'Before',\n",
       "  'night',\n",
       "  'saw',\n",
       "  'till',\n",
       "  'gate',\n",
       "  'seen',\n",
       "  'Stromberg',\n",
       "  'enchanted',\n",
       "  'princess',\n",
       "  'left',\n",
       "  'hundred',\n",
       "  'within',\n",
       "  'found',\n",
       "  'room'])"
      ]
     },
     "execution_count": 3,
     "metadata": {},
     "output_type": "execute_result"
    }
   ],
   "source": [
    "\n",
    "#layer.get_counts_for_specific_key('fox').most_common()\n",
    "layer.window_size = 1\n",
    "layer.get_frequency_dict()\n",
    "layer.comparison_frequencies('castle', window_size=10,ratio=0.25, cutoff=20, visualize_it=True, axis_lims=(0.0,1.1))\n",
    "#layer.get_frequency_dict()\n",
    "#layer.comparison_frequencies('Alice', 0.001, 15, True)"
   ]
  },
  {
   "cell_type": "code",
   "execution_count": 13,
   "metadata": {},
   "outputs": [
    {
     "data": {
      "text/plain": [
       "['b', 'c']"
      ]
     },
     "execution_count": 13,
     "metadata": {},
     "output_type": "execute_result"
    }
   ],
   "source": [
    "l = ['a','b','c']\n",
    "var = l.pop(0)\n",
    "r = l[:]\n",
    "l.pop(0)\n",
    "l\n",
    "r"
   ]
  },
  {
   "cell_type": "code",
   "execution_count": null,
   "metadata": {},
   "outputs": [],
   "source": [
    "import matplotlib.pyplot as plt\n",
    "%matplotlib inline"
   ]
  },
  {
   "cell_type": "code",
   "execution_count": null,
   "metadata": {},
   "outputs": [],
   "source": [
    "cnt, dct = layer.initialize_frequency_dict()"
   ]
  },
  {
   "cell_type": "code",
   "execution_count": null,
   "metadata": {},
   "outputs": [],
   "source": [
    "# comparison_frequencies\n",
    "layer.comparison_frequencies('men', ratio=0.5, cutoff=50, visualize_it=False);"
   ]
  },
  {
   "cell_type": "code",
   "execution_count": null,
   "metadata": {},
   "outputs": [],
   "source": [
    "layer.get_counts_for_specific_key('love').most_common(100)"
   ]
  },
  {
   "cell_type": "code",
   "execution_count": null,
   "metadata": {},
   "outputs": [],
   "source": [
    "# head_keys = layer.columns.keys()\n",
    "# neurons = list({neuron for column in layer.columns.values() for neuron in column})\n",
    "# one_hot_raw = np.eye(len(head_keys), dtype=int)\n",
    "# len(one_hot_raw)\n",
    "# d_head_keys = {}\n",
    "# for idx, word in enumerate(head_keys):\n",
    "#     d_head_keys[word] = one_hot_raw[idx]\n",
    "# len(d_head_keys)\n",
    "# ar_sent_vecs = np.zeros((len(neurons),len(head_keys)))\n",
    "# ar_sent_vecs.shape"
   ]
  },
  {
   "cell_type": "code",
   "execution_count": null,
   "metadata": {},
   "outputs": [],
   "source": [
    "# headkeys = layer.columns.keys()\n",
    "# neurons = list({neuron for column in layer.columns.values() for neuron in column})\n",
    "# print(len(neurons)) # 481334 as list\n",
    "#                     #  32796 as set\n",
    "\n",
    "# for idx, neuron in enumerate(neurons):\n",
    "#     if idx % 1000 == 0:\n",
    "#         print(idx)\n",
    "#     for _key in neuron.keys:\n",
    "#         ar_sent_vecs[idx] = np.add(ar_sent_vecs[idx], d_head_keys[_key])\n",
    "                \n",
    "\n",
    "# ar_sent_vecs.shape\n",
    "        "
   ]
  },
  {
   "cell_type": "code",
   "execution_count": null,
   "metadata": {},
   "outputs": [],
   "source": [
    "# np.sum(ar_sent_vecs[100])"
   ]
  },
  {
   "cell_type": "code",
   "execution_count": null,
   "metadata": {},
   "outputs": [],
   "source": [
    "# from sklearn.cluster import KMeans\n",
    "# class KMeans():\n",
    "#     def compute_clusters(self, X, centers):\n",
    "#         return np.argmin([np.linalg.norm(X-c, axis=1) for c in centers], axis=0)\n",
    "#     def compute_centers(self, X, clusters):\n",
    "#         return np.array([X[clusters == c,].mean(0) for c in set(clusters)])\n",
    "#     def fit(self, X, k, n_iter=100):\n",
    "#         print('A')\n",
    "#         clusters = self.compute_clusters(X, np.array(random.sample(list(X), k)))\n",
    "#         for idx in range(n_iter):\n",
    "#             print(idx)\n",
    "#             #if idx % 10 == 0: print(idx)\n",
    "#             centers = self.compute_centers(X, clusters)\n",
    "#             clusters = self.compute_clusters(X, centers)\n",
    "#         return clusters"
   ]
  },
  {
   "cell_type": "code",
   "execution_count": null,
   "metadata": {},
   "outputs": [],
   "source": [
    "\n",
    "# import numpy as np\n",
    "# X = np.array([[1, 2], [1, 4], [1, 0],\n",
    "#               [4, 2], [4, 4], [4, 0]])\n",
    "# kmeans = KMeans(n_clusters=2, random_state=0).fit(X)\n",
    "# kmeans.labels_\n",
    "# #> array([0, 0, 0, 1, 1, 1], dtype=int32)\n",
    "# kmeans.predict([[0, 0], [4, 4]])\n",
    "# #> array([0, 1], dtype=int32)\n",
    "# kmeans.cluster_centers_\n",
    "# #> array([[ 1.,  2.],\n",
    "# #>     [ 4.,  2.]])"
   ]
  },
  {
   "cell_type": "code",
   "execution_count": null,
   "metadata": {},
   "outputs": [],
   "source": [
    "# %time\n",
    "# clusters = KMeans(n_clusters=64, random_state=0).fit(ar_sent_vecs[:2000])\n",
    "# clusters.labels_"
   ]
  },
  {
   "cell_type": "code",
   "execution_count": null,
   "metadata": {},
   "outputs": [],
   "source": [
    "# clusters.labels_[200:300]"
   ]
  }
 ],
 "metadata": {
  "kernelspec": {
   "display_name": "Python 3",
   "language": "python",
   "name": "python3"
  },
  "language_info": {
   "codemirror_mode": {
    "name": "ipython",
    "version": 3
   },
   "file_extension": ".py",
   "mimetype": "text/x-python",
   "name": "python",
   "nbconvert_exporter": "python",
   "pygments_lexer": "ipython3",
   "version": "3.6.4"
  }
 },
 "nbformat": 4,
 "nbformat_minor": 2
}
